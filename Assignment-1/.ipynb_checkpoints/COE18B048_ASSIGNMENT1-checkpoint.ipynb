{
 "cells": [
  {
   "cell_type": "markdown",
   "metadata": {},
   "source": [
    "         COM 506 P ANALYTICS & SYSTEMS OF BIGT DATA PRACTICE – PROBLEM SET I\n",
    "SHRESTA M\n",
    "\n",
    "COE18B048"
   ]
  },
  {
   "cell_type": "markdown",
   "metadata": {},
   "source": [
    "Q1 : Given   the   following   setup   {Class,Tally   score,   Frequency},   develop   an application  that  generates  the  table  shown ;  (you  can  populate  the  relevant  data ; minimum data size :50 records). The table is only an illustration for a data of  color  scores,  you  are  free  to  test  the  application  over  any  data  set  with  the  application generating the tally and frequency scores.\n",
    "\n",
    "Logic :\n",
    "Since the minimum size of data was 50 , i have used a csv file for input data of colors . I have used pandas python package to read the csv file and created the data frame as given format in question. "
   ]
  },
  {
   "cell_type": "code",
   "execution_count": 1,
   "metadata": {},
   "outputs": [
    {
     "name": "stdout",
     "output_type": "stream",
     "text": [
      "       Colour  Frequency    Tally\n",
      "0       Black          4     ||||\n",
      "1        Blue          4     ||||\n",
      "2     Caprice          7  ||||/||\n",
      "3     Crimson          1        |\n",
      "4   Darkgreen          2       ||\n",
      "5        Gold          2       ||\n",
      "6       Green          2       ||\n",
      "7      Indigo          2       ||\n",
      "8       Khaki          2       ||\n",
      "9    Lavender          2       ||\n",
      "10     Maroon          1        |\n",
      "11     Orange          3      |||\n",
      "12       Pink          1        |\n",
      "13     Purple          5    ||||/\n",
      "14        Red          2       ||\n",
      "15     Silver          4     ||||\n",
      "16     Violet          4     ||||\n",
      "17     Yellow          2       ||\n"
     ]
    }
   ],
   "source": [
    "# Q1 \n",
    "import pandas as pd\n",
    "\n",
    "tallies = []\n",
    "tally = \"\"\n",
    "def tally_rep(n):\n",
    "    global tally\n",
    "    for i in range(1,n+1):\n",
    "        if i%5 == 0:\n",
    "            tally = tally+'/'\n",
    "        else:\n",
    "            tally = tally+'|'\n",
    "    tallies.append(tally)\n",
    "    tally = \"\"\n",
    "    return tallies\n",
    "\n",
    "\n",
    "if __name__ == \"__main__\":\n",
    "    df = pd.read_csv(\"colour.csv\")\n",
    "    table = (pd.DataFrame({'Frequency' : df.groupby( [ \"Colour\"] ).size()}).reset_index())\n",
    "    for x in table['Frequency'] :\n",
    "        tally_rep(x)\n",
    "\n",
    "    table['Tally'] = tallies\n",
    "    print(table)"
   ]
  },
  {
   "cell_type": "markdown",
   "metadata": {},
   "source": [
    "\n",
    "\n",
    "\n",
    "Q2 :In  a  class  of  18  students,  assume marks  distribution  in  an  exam  are  as  follows.  Let  the  roll numbers  start  with CSE20D01  and  all  the  odd  roll  numbers  secure  marks as  follows:  25+((i+7)%10)  and  even  roll  numbers  :  25+((i+8)%10).  Develop an application that sets up the data  and calculate the mean and median for the marks obtained using the platform support.\n",
    "\n",
    "Logic :\n",
    "I have used prettytable and numpy python packages to generate the table and to calculate the mean and median of the data calculated.\n"
   ]
  },
  {
   "cell_type": "code",
   "execution_count": 2,
   "metadata": {},
   "outputs": [
    {
     "name": "stdout",
     "output_type": "stream",
     "text": [
      "15\n",
      "The following data :\n",
      "+----------+-------+\n",
      "| Roll no  | Marks |\n",
      "+----------+-------+\n",
      "| CSE20D01 |   33  |\n",
      "| CSE20D02 |   25  |\n",
      "| CSE20D03 |   25  |\n",
      "| CSE20D04 |   27  |\n",
      "| CSE20D05 |   27  |\n",
      "| CSE20D06 |   29  |\n",
      "| CSE20D07 |   29  |\n",
      "| CSE20D08 |   31  |\n",
      "| CSE20D09 |   31  |\n",
      "| CSE20D10 |   33  |\n",
      "| CSE20D11 |   33  |\n",
      "| CSE20D12 |   25  |\n",
      "| CSE20D13 |   25  |\n",
      "| CSE20D14 |   27  |\n",
      "+----------+-------+\n",
      "Mean  28.571428571428573\n",
      "Median 28.0\n"
     ]
    }
   ],
   "source": [
    "#q2\n",
    "from prettytable import PrettyTable\n",
    "import numpy as np\n",
    "\n",
    "count = int(input())\n",
    "x = PrettyTable()\n",
    "roll = 'CSE20D'\n",
    "marks_data =[]\n",
    "x.field_names = [\"Roll no\", \"Marks\"]\n",
    "for i in range(1,15):\n",
    "    if i%2 ==0 and len(str(i)) == 1:\n",
    "        y = 25+((i+8)%10)\n",
    "        x.add_row([roll+str(0)+str(i),y])\n",
    "    elif i%2 == 0:\n",
    "        y = 25+((i+8)%10)\n",
    "        x.add_row([roll+str(i),y])\n",
    "    elif i%2 != 0 and len(str(i)) == 1:\n",
    "        y = 25+((i+7)%10)\n",
    "        x.add_row([roll+str(0)+str(i),y])\n",
    "    else:\n",
    "        y = 25+((i+7)%10)\n",
    "        x.add_row([roll+str(i),25+((i+7)%10)])\n",
    "\n",
    "    marks_data.append(y)\n",
    "\n",
    "# print(marks_data)\n",
    "print(\"The following data :\")        \n",
    "print(x)\n",
    "data = np.array(marks_data)\n",
    "mean_data = np.mean(data)\n",
    "median_data = np.median(data)\n",
    "print(\"Mean \",mean_data)\n",
    "print(\"Median\",median_data)"
   ]
  },
  {
   "cell_type": "markdown",
   "metadata": {},
   "source": [
    "\n",
    "\n",
    "\n",
    "\n",
    "\n",
    "\n",
    "Q3 :For  a  sample  space  of  20  elements,  the  values  are  fitted  to  the  line  Y=2X+3,  X>5.  Develop  an  application  that  sets  up  the  data  and  computes  the  standard  deviation  of  this  sample  space.  (use  random  number generator supported in your development platform to generate values of X\n",
    "\n",
    "\n",
    "\n",
    "Logic : Using random python package , i have generated random numbers to compute the data values and used numpy to calculate the standard deviation."
   ]
  },
  {
   "cell_type": "code",
   "execution_count": 4,
   "metadata": {},
   "outputs": [
    {
     "name": "stdout",
     "output_type": "stream",
     "text": [
      "[21, 63, 71, 29, 30, 62, 38, 49, 33, 48, 27, 17, 20, 56, 61, 12, 65, 39, 27, 100]\n",
      "[45, 129, 145, 61, 63, 127, 79, 101, 69, 99, 57, 37, 43, 115, 125, 27, 133, 81, 57, 203]\n",
      "Standard deviation : 43.581647513603706\n"
     ]
    }
   ],
   "source": [
    "# q3\n",
    "import numpy as np\n",
    "import random\n",
    "\n",
    "x =[]\n",
    "y =[]\n",
    "max_n = 100\n",
    "for i in range(20):\n",
    "    x.append(random.randint(0, max_n))\n",
    "    y.append((2*x[i])+3)\n",
    "\n",
    "print(x)\n",
    "print(y)\n",
    "data = np.array(y)\n",
    "std_dev = np.std(data)\n",
    "print(\"Standard deviation :\",std_dev)\n"
   ]
  },
  {
   "cell_type": "markdown",
   "metadata": {},
   "source": [
    "Q4 :For a given data of heights of a class, the heights of 15 students are recorded as 167.65, 167, 172, 175, 165, 167,  168,  167,  167.3,  170,  167.5,  170,  167,  169,  and  172.   Develop  an  application  that  computes;   explore  if  there are any  packages  supported  in  your  platform  that  depicts  these  measures  /  their  calculation  of  central  tendency in a visual form for ease of understanding.  a.Mean height of the studentb.Median and Mode of the sample space c.Standard deviation  d.Measure of skewness.  [(Mean-Mode)/standard deviation]\n",
    "\n",
    "Logic : \n",
    "Packages used : numpy and statistics - to calculate the mean ,median,mode and measure of skewness ."
   ]
  },
  {
   "cell_type": "code",
   "execution_count": 5,
   "metadata": {},
   "outputs": [
    {
     "name": "stdout",
     "output_type": "stream",
     "text": [
      "==== Following calculations of the given height data set====\n",
      "Mean =  28.571428571428573\n",
      "Median =  28.0\n",
      "Mode = 25\n",
      "Standard deviation = 3.0405423791132518\n",
      "Measure of skewness = 1.1746024643373494\n"
     ]
    }
   ],
   "source": [
    "# q4\n",
    "import numpy as np\n",
    "import statistics\n",
    "\n",
    "data = np.array([33, 25, 25, 27, 27, 29, 29, 31, 31, 33, 33, 25, 25, 27])\n",
    "print(\"==== Following calculations of the given height data set====\")\n",
    "data_mean = np.mean(data)\n",
    "data_median = np.median(data)\n",
    "data_mode = statistics.mode(data)\n",
    "data_std = np.std(data)\n",
    "data_skew = ((data_mean - data_mode)/data_std)\n",
    "print('Mean = ',data_mean)\n",
    "print('Median = ',data_median)\n",
    "print('Mode =',data_mode)\n",
    "print('Standard deviation =', data_std)\n",
    "print('Measure of skewness =',data_skew)"
   ]
  },
  {
   "cell_type": "markdown",
   "metadata": {},
   "source": [
    "Q5 : In  Analytics  and  Systems  of  Bigdata  course,  for  a  class  of  100  students,  around  31  students  secured  ‘S’  grade, 29 secured ‘B’ grade,  25 ‘C’ grades, and rest of them secured ‘D’ grades.  If the range of each grade is 15 marks.  (S  for  85  to  100  marks,  A  for  70  to  85  ...).  Develop  an  application  that  represents  the  above  data  :using Pie and Bar graph\n",
    "\n",
    "Logic : matplotlib.pyplot package is used to represent the above data using pie and bar graph"
   ]
  },
  {
   "cell_type": "code",
   "execution_count": 8,
   "metadata": {},
   "outputs": [
    {
     "data": {
      "image/png": "[encoded data removed]",
      "text/plain": [
       "<Figure size 432x288 with 1 Axes>"
      ]
     },
     "metadata": {},
     "output_type": "display_data"
    },
    {
     "data": {
      "image/png": "[encoded data removed]",
      "text/plain": [
       "<Figure size 432x288 with 1 Axes>"
      ]
     },
     "metadata": {
      "needs_background": "light"
     },
     "output_type": "display_data"
    }
   ],
   "source": [
    "# q5\n",
    "import numpy as np\n",
    "import matplotlib.pyplot as plt\n",
    "\n",
    "\n",
    "# Pie chart, where the slices will be ordered and plotted counter-clockwise:\n",
    "labels = ['S', 'B', 'C', 'D']\n",
    "sizes = [31, 29, 25, 15]\n",
    "\n",
    "fig, ax = plt.subplots()\n",
    "# ax.pie(sizes, labels=labels, autopct='%1.1f%%')\n",
    "ax.pie(sizes,\n",
    "       explode=[0.05,0.05,0.05,0.05],\n",
    "       labels=labels,\n",
    "       autopct='%1.1f%%',\n",
    "       shadow=True,\n",
    "       startangle=90)\n",
    "ax.axis('equal')  # Equal aspect ratio ensures the pie chart is circular.\n",
    "ax.set_title('Grades')\n",
    "\n",
    "fig = plt.figure()\n",
    "ax = fig.add_axes([0,0,1,1])\n",
    "ax.set_ylabel('Scores')\n",
    "ax.set_xlabel('Grades')\n",
    "langs =['S', 'B', 'C', 'D']\n",
    "students = [31, 29, 25, 15]\n",
    "ax.bar(langs,students,color = 'g', width = 0.25)\n",
    "# ax.bar(X + 0.25, data[1], color = 'g', width = 0.25)\n",
    "plt.show()"
   ]
  },
  {
   "cell_type": "markdown",
   "metadata": {},
   "source": [
    "Q6 : On  a  given  day  (average  basis),  a  student  is  observed  to  spend  33%  of  time  in  studying,  30%  in  sleeping, 18% in playing, 5% for hobby activities, and rest for spending with friends and family. Plot a pie chart showing his daily activities.\n",
    "Package used : matplotlib.pyplot to generate pie chart for the given data."
   ]
  },
  {
   "cell_type": "code",
   "execution_count": 8,
   "metadata": {},
   "outputs": [
    {
     "data": {
      "image/png": "[encoded data removed]",
      "text/plain": [
       "<Figure size 432x288 with 1 Axes>"
      ]
     },
     "metadata": {},
     "output_type": "display_data"
    }
   ],
   "source": [
    "# q6\n",
    "import numpy as np\n",
    "import matplotlib.pyplot as plt\n",
    "\n",
    "\n",
    "#  spend  33%  of  time  in  studying, \n",
    "#   30%  in  sleeping, 18% in playing, 5% for hobby activities, and rest for spending with friends and family.\n",
    "\n",
    "# Pie chart, where the slices will be ordered and plotted counter-clockwise:\n",
    "labels = ['studying','sleeping','playing','hobby activities','famlily']\n",
    "sizes = [33, 30, 18, 5,14]\n",
    "\n",
    "fig, ax = plt.subplots()\n",
    "# ax.pie(sizes, labels=labels, autopct='%1.1f%%')\n",
    "ax.pie(sizes,\n",
    "       explode=[0.05,0.05,0.05,0.05,0.05],\n",
    "       labels=labels,\n",
    "       autopct='%1.1f%%',\n",
    "       shadow=True,\n",
    "       startangle=90)\n",
    "ax.axis('equal')  # Equal aspect ratio ensures the pie chart is circular.\n",
    "ax.set_title('Activities')\n",
    "plt.show()"
   ]
  },
  {
   "cell_type": "markdown",
   "metadata": {},
   "source": [
    "Q7 : Develop  an  application  (absolute  grader)  that  accepts  marks  scored  by  20  students  in  ASBD  course  (as  a  split up of three : Mid Sem (30), End Sem(50) and Assignments(20). Compute the total and use it to grade the students following absolute grading : >=90 – S   ; >=80 – A    and so on till D. Compute the Class average for total marks in the course and 50% of class average would be fixed as the cut off for E. Generate a frequency table for the grades as well (Table displaying the grades and counts of them).  \n",
    "Packages used : numpy and random\n",
    "numpy is used to calculate the mean of total marks . random is used to generate random values for midsem , assignment and endsem marks."
   ]
  },
  {
   "cell_type": "code",
   "execution_count": 3,
   "metadata": {},
   "outputs": [
    {
     "name": "stdout",
     "output_type": "stream",
     "text": [
      "{'B': 2, 'A': 1, 'E': 11, 'U': 2, 'D': 2, 'C': 1, 'S': 1}\n"
     ]
    }
   ],
   "source": [
    "# q7\n",
    "import numpy as np\n",
    "import random\n",
    "\n",
    "mid_sem =[]\n",
    "end_sem =[]\n",
    "assign = []\n",
    "total = []\n",
    "grade = []\n",
    "\n",
    "for i in range(20):\n",
    "    #generating random numbers \n",
    "    mid_sem.append(random.randint(0,30))\n",
    "    end_sem.append(random.randint(0,50))\n",
    "    assign.append(random.randint(0,20))\n",
    "    total.append(mid_sem[i]+end_sem[i]+assign[i])\n",
    "#all cases handled to assign grades based on marks\n",
    "    if(total[i] >= 90):\n",
    "        grade.append('S')\n",
    "    elif (total[i] >= 80):\n",
    "        grade.append('A')\n",
    "    elif (total[i] >= 70):\n",
    "        grade.append('B')\n",
    "    elif (total[i] >= 60):\n",
    "        grade.append('C')\n",
    "    elif (total[i] >= 50):\n",
    "        grade.append('D')\n",
    "    else:\n",
    "        grade.append('E')\n",
    "\n",
    "#calculating the mean of total marks\n",
    "marks = np.array(total)\n",
    "avg = np.mean(marks)\n",
    "\n",
    "for i in range(20):\n",
    "    if(total[i] <= (0.5*avg)):\n",
    "        grade[i] = 'U'\n",
    "\n",
    "#calculating the frequency of grades\n",
    "freq = {}\n",
    "for item in grade:\n",
    "    if(item in freq):\n",
    "        freq[item] +=1\n",
    "    else:\n",
    "        freq[item] = 1\n",
    "\n",
    "print(freq)\n"
   ]
  },
  {
   "cell_type": "markdown",
   "metadata": {},
   "source": [
    "Q8 : Extend the application developed in (7) to support relative grading which uses the class average (mean) and standard  deviation  to  compute  the  cutoffs  for  various  grades  as  opposed  to  fixing  them  statically;   you  can  refer  the  sample  grader  (excel  sheet)  attached  to  understand  the  formulas  for  fixing  the  cutoffs;  the  grader  would  involve,  mean,  standard  deviation,  max  mark,  passed  students  data  mean,  etc.  Understand  the  excel  grader thoroughly before you try mimicking such an application in your development platform. \n",
    "Packages used : numpy and random"
   ]
  },
  {
   "cell_type": "code",
   "execution_count": 6,
   "metadata": {},
   "outputs": [
    {
     "name": "stdout",
     "output_type": "stream",
     "text": [
      "{'E': 8, 'B': 5, 'C': 3, 'D': 1, 'U': 2, 'S': 1}\n"
     ]
    }
   ],
   "source": [
    "# q8\n",
    "import numpy as np\n",
    "import random\n",
    "\n",
    "mid_sem = []\n",
    "end_sem = []\n",
    "assign3 = []\n",
    "total_marks= []\n",
    "grades = []\n",
    "\n",
    "for i in range(20):\n",
    "    mid_sem.append(random.randint(0,30))\n",
    "    end_sem.append(random.randint(0,50))\n",
    "    assign3.append(random.randint(0,20))\n",
    "    total_marks.append(mid_sem[i]+end_sem[i]+assign3[i])\n",
    "    if (total_marks[i]>=90):\n",
    "        grades.append('S')\n",
    "    elif (total_marks[i]>=80):\n",
    "        grades.append('A')\n",
    "    elif (total_marks[i]>=70):\n",
    "        grades.append('B')\n",
    "    elif (total_marks[i]>=60):\n",
    "        grades.append('C')\n",
    "    elif (total_marks[i]>=50):\n",
    "        grades.append('D')\n",
    "    else :\n",
    "        grades.append('E')\n",
    "\n",
    "#calculating the mean of total marks\n",
    "marks = np.array(total)\n",
    "Mean = np.mean(marks)\n",
    "for i in range(20):\n",
    "    if(total_marks[i]<(0.5*Mean)):\n",
    "        grades[i] = 'U'\n",
    "\n",
    "freq = {}\n",
    "for item in grades:\n",
    "    if(item in freq):\n",
    "        freq[item] +=1\n",
    "    else:\n",
    "        freq[item] = 1\n",
    "        \n",
    "final = {}\n",
    "for i in range(20):\n",
    "    final[total_marks[i]] = grades[i]\n",
    "    \n",
    "pass_sum = 0\n",
    "pass_count = 0\n",
    "for item in total_marks:\n",
    "    if(item>0.5*Mean):\n",
    "        pass_sum += item\n",
    "        pass_count = pass_count + 1\n",
    "pass_mean = pass_sum/pass_count\n",
    "\n",
    "X = pass_mean - Mean\n",
    "max_mark = max(total_marks)\n",
    "SCutoff = max_mark - 0.1*(max_mark - pass_mean)\n",
    "Y = SCutoff - pass_mean\n",
    "ACutoff = pass_mean + (Y*(5/8))\n",
    "BCutoff = pass_mean + (Y*(2/8))\n",
    "CCutoff = pass_mean - (X*(2/8))\n",
    "DCutoff = pass_mean - (X*(5/8))\n",
    "ECutoff = 0.5*Mean\n",
    "\n",
    "for i in range(20):\n",
    "    if(total_marks[i]>SCutoff):\n",
    "        grades[i] = 'S'\n",
    "    elif(total_marks[i]>ACutoff):\n",
    "        grades[i] = 'A'\n",
    "    elif(total_marks[i]>BCutoff):\n",
    "        grades[i] = 'B'\n",
    "    elif(total_marks[i]>CCutoff):\n",
    "        grades[i] = 'C'\n",
    "    elif(total_marks[i]>DCutoff):\n",
    "        grades[i] = 'D'\n",
    "    elif(total_marks[i]>ECutoff):\n",
    "        grades[i] = 'E'\n",
    "    \n",
    "Freq = {}\n",
    "for item in grades:\n",
    "    if(item in Freq):\n",
    "        Freq[item] +=1\n",
    "    else:\n",
    "        Freq[item] = 1\n",
    "\n",
    "Final = {}\n",
    "for i in range(20):\n",
    "    Final[total_marks[i]] = grades[i]\n",
    "print(Freq)"
   ]
  },
  {
   "cell_type": "markdown",
   "metadata": {},
   "source": [
    "Q9 :  Consider the following sample of weights for 45 individuals:   79 71 89 57 76 64 82 82 67 80 81 65 73 79 79 60 58 83 74 68 78 80 78 81 76 65 70 76 58 82 59 73 72 79 87 63 74 90 69 70 83 76 61 66 71 60 57 81 57 65 81 78  77  81 81  63  71  66  56  62  75  64  74  74  70  71  56  69  63  72  81  54  72  91  92.  For  the  above  data  generates  histograms  and  depict  them  using  packages  in  your  platform.  Explore  the  different  types  of  histograms  available and test drive the types supported in your platform\n",
    "Package used : matplotlib.pyplot to generate histogram for the given data."
   ]
  },
  {
   "cell_type": "code",
   "execution_count": 11,
   "metadata": {},
   "outputs": [
    {
     "data": {
      "image/png": "[encoded data removed]",
      "text/plain": [
       "<Figure size 432x288 with 1 Axes>"
      ]
     },
     "metadata": {},
     "output_type": "display_data"
    },
    {
     "data": {
      "text/plain": [
       "<Figure size 432x288 with 0 Axes>"
      ]
     },
     "metadata": {},
     "output_type": "display_data"
    }
   ],
   "source": [
    "# q9  \n",
    "import matplotlib.pyplot as plt\n",
    "\n",
    "x = [ 79, 71, 89, 57, 76, 64, 82, 82, 67, 80, 81, 65, 73, 79, 79, 60, 58 ,83 ,74 ,68, 78, 80, 78, 81, 76, 65 ,70 ,76, 58, 82, 59 ,73, 72, 79, 87, 63, 74, 90, 69 ,70, 83 ,76 ,61 ,66 ,71 ,60 ,57 ,81, 57, 65 ,81 ,78 , 77 , 81 ,81 , 63,  71 , 66 , 56,  62,  75 , 64 , 74 , 74,  70,  71,  56 , 69,  63,  72 , 81 , 54 , 72 , 91 , 92]\n",
    "plt.style.use('ggplot')\n",
    "plt.hist(x, bins = 30,color = 'Green')\n",
    "plt.show()\n",
    "# plt.savefig(\"hist.png\")"
   ]
  },
  {
   "cell_type": "code",
   "execution_count": null,
   "metadata": {},
   "outputs": [],
   "source": []
  }
 ],
 "metadata": {
  "kernelspec": {
   "display_name": "Python 3",
   "language": "python",
   "name": "python3"
  },
  "language_info": {
   "codemirror_mode": {
    "name": "ipython",
    "version": 3
   },
   "file_extension": ".py",
   "mimetype": "text/x-python",
   "name": "python",
   "nbconvert_exporter": "python",
   "pygments_lexer": "ipython3",
   "version": "3.8.5"
  }
 },
 "nbformat": 4,
 "nbformat_minor": 4
}
