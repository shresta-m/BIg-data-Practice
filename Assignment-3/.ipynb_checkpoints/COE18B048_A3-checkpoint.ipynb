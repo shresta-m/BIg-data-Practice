{
 "cells": [
  {
   "cell_type": "code",
   "execution_count": 34,
   "metadata": {},
   "outputs": [
    {
     "name": "stdout",
     "output_type": "stream",
     "text": [
      "=== min-max normalization===\n",
      "[0.0, 0.03508771929824561, 0.05263157894736842, 0.05263157894736842, 0.10526315789473684, 0.12280701754385964, 0.12280701754385964, 0.14035087719298245, 0.15789473684210525, 0.15789473684210525, 0.21052631578947367, 0.21052631578947367, 0.21052631578947367, 0.21052631578947367, 0.2982456140350877, 0.3508771929824561, 0.3508771929824561, 0.38596491228070173, 0.38596491228070173, 0.38596491228070173, 0.38596491228070173, 0.40350877192982454, 0.47368421052631576, 0.5614035087719298, 0.5789473684210527, 0.6842105263157895, 1.0]\n",
      "\n",
      "===z-score normalization===\n",
      " [-1.33564599e+00 -1.17816807e+00 -1.09942912e+00 -1.09942912e+00\n",
      " -8.63212252e-01 -7.84473297e-01 -7.84473297e-01 -7.05734341e-01\n",
      " -6.26995386e-01 -6.26995386e-01 -3.90778520e-01 -3.90778520e-01\n",
      " -3.90778520e-01 -3.90778520e-01  2.91625761e-03  2.39133124e-01\n",
      "  2.39133124e-01  3.96611035e-01  3.96611035e-01  3.96611035e-01\n",
      "  3.96611035e-01  4.75349990e-01  7.90305812e-01  1.18400059e+00\n",
      "  1.26273954e+00  1.73517328e+00  3.15247448e+00]\n",
      "\n",
      "===decimal scaling===\n",
      "  [0.13, 0.15, 0.16, 0.16, 0.19, 0.2, 0.2, 0.21, 0.22, 0.22, 0.25, 0.25, 0.25, 0.25, 0.3, 0.33, 0.33, 0.35, 0.35, 0.35, 0.35, 0.36, 0.4, 0.45, 0.46, 0.52, 0.7]\n"
     ]
    }
   ],
   "source": [
    "from scipy import stats\n",
    "age = [13, 15, 16, 16, 19, 20, 20, 21, 22, 22, 25, 25, 25, 25, 30, 33,\n",
    "33, 35, 35, 35, 35, 36, 40, 45, 46, 52, 70]\n",
    "\n",
    "# (a) Use min-max normalization to transform the values of age to the range [0:1].\n",
    "# (b) Use z-score normalization to transform the values of age.\n",
    "# (c) Use normalization by decimal scaling to transform the values of age such that the transformed value\n",
    "# is less than 1.\n",
    "min_max = [((item - age[0])/(age[len(age)-1]-age[0])) for item in age]\n",
    "z_scale = stats.zscore(age)\n",
    "l = len(str(age[len(age)-1]))\n",
    "dec_scale = [(item/(10**l))for item in age]\n",
    "print(\"=== min-max normalization===\")\n",
    "print(min_max)\n",
    "print(\"\\n===z-score normalization===\\n\",z_scale)\n",
    "print(\"\\n===decimal scaling===\\n \",dec_scale)"
   ]
  },
  {
   "cell_type": "code",
   "execution_count": 1,
   "metadata": {},
   "outputs": [
    {
     "name": "stdout",
     "output_type": "stream",
     "text": [
      "[8.45600000e+01 3.79820000e+02 3.85550000e+02 ... 5.22886979e+07\n",
      " 6.10344571e+07 6.25056465e+07]\n",
      "Bin mean : [[348.546 348.546 348.546 348.546 348.546]\n",
      " [526.436 526.436 526.436 526.436 526.436]\n",
      " [570.508 570.508 570.508 570.508 570.508]\n",
      " [625.4   625.4   625.4   625.4   625.4  ]\n",
      " [677.388 677.388 677.388 677.388 677.388]\n",
      " [717.338 717.338 717.338 717.338 717.338]\n",
      " [756.092 756.092 756.092 756.092 756.092]\n",
      " [779.948 779.948 779.948 779.948 779.948]\n",
      " [810.418 810.418 810.418 810.418 810.418]\n",
      " [837.376 837.376 837.376 837.376 837.376]]\n",
      "Bin median : [[385.55 385.55 385.55 385.55 385.55]\n",
      " [530.96 530.96 530.96 530.96 530.96]\n",
      " [566.57 566.57 566.57 566.57 566.57]\n",
      " [627.8  627.8  627.8  627.8  627.8 ]\n",
      " [679.51 679.51 679.51 679.51 679.51]\n",
      " [712.4  712.4  712.4  712.4  712.4 ]\n",
      " [753.78 753.78 753.78 753.78 753.78]\n",
      " [775.8  775.8  775.8  775.8  775.8 ]\n",
      " [810.61 810.61 810.61 810.61 810.61]\n",
      " [841.53 841.53 841.53 841.53 841.53]]\n",
      "Bin bounderies : [[ 84.56 472.82 472.82 472.82 472.82]\n",
      " [482.26 482.26 561.1  561.1  561.1 ]\n",
      " [562.64 562.64 562.64 562.64 588.87]\n",
      " [593.39 593.39 657.42 657.42 657.42]\n",
      " [657.96 657.96 697.76 697.76 697.76]\n",
      " [706.15 706.15 706.15 706.15 740.33]\n",
      " [749.03 749.03 749.03 762.15 762.15]\n",
      " [769.05 769.05 769.05 792.97 792.97]\n",
      " [795.95 821.99 821.99 821.99 821.99]\n",
      " [823.5  823.5  845.11 845.11 845.11]]\n"
     ]
    }
   ],
   "source": [
    "import numpy as np   \n",
    "import pandas as pd\n",
    "import math  \n",
    "from sklearn import datasets, linear_model, metrics  \n",
    "\n",
    "dataset = pd.read_csv('Avocado _Dataset.csv')\n",
    "df = dataset['Total Volume']\n",
    "a = np.sort(df)\n",
    "print(a)\n",
    "  \n",
    "bin1 = np.zeros((50,5))\n",
    "bin2 = np.zeros((50,5))\n",
    "bin3 = np.zeros((50,5))\n",
    "\n",
    "for i in range(0,250,5):\n",
    "    k = int(i/5)\n",
    "    mean = (a[i]+a[i+1]+a[i+2]+a[i+3]+a[i+4])/5\n",
    "    for j in range(5):\n",
    "        bin1[k,j] = mean\n",
    "print(\"Bin mean :\",bin1[:10][:])\n",
    "\n",
    "for i in range(0,250,5):\n",
    "    k = int(i/5)\n",
    "    median = a[i+2]\n",
    "    for j in range(5):\n",
    "        bin2[k,j] = median\n",
    "print(\"Bin median :\",bin2[:10][:])\n",
    "        \n",
    "for i in range(0,250,5):\n",
    "    k = int(i/5)\n",
    "    for j in range(5):\n",
    "        if(a[i+j]-a[i] < a[i+4]-a[i+j]):\n",
    "            bin3[k,j] = a[i]\n",
    "        else:\n",
    "            bin3[k,j] = a[i+4]\n",
    "            \n",
    "print(\"Bin bounderies :\",bin3[:10][:])\n"
   ]
  },
  {
   "cell_type": "code",
   "execution_count": 37,
   "metadata": {},
   "outputs": [
    {
     "name": "stdout",
     "output_type": "stream",
     "text": [
      " \n",
      "Boolean Dataframe : \n",
      "\n",
      "         Date  AveragePrice  Total Volume   4046   4225   4770  Total Bags  \\\n",
      "0      False         False         False  False  False  False       False   \n",
      "1      False         False         False  False  False  False       False   \n",
      "2      False         False         False  False  False  False       False   \n",
      "3      False         False         False  False  False  False       False   \n",
      "4      False         False         False  False  False  False       False   \n",
      "...      ...           ...           ...    ...    ...    ...         ...   \n",
      "18245  False         False         False  False  False  False       False   \n",
      "18246  False         False         False  False  False  False       False   \n",
      "18247  False         False         False  False  False  False       False   \n",
      "18248  False         False         False  False  False  False       False   \n",
      "18249  False         False         False  False  False  False       False   \n",
      "\n",
      "       Small Bags  Large Bags  XLarge Bags   type   year  region  \n",
      "0           False       False        False  False  False   False  \n",
      "1           False       False        False  False  False   False  \n",
      "2           False       False        False  False  False   False  \n",
      "3           False       False        False  False  False   False  \n",
      "4           False       False        False  False  False   False  \n",
      "...           ...         ...          ...    ...    ...     ...  \n",
      "18245       False       False        False  False  False   False  \n",
      "18246       False       False        False  False  False   False  \n",
      "18247       False       False        False  False  False   False  \n",
      "18248       False       False        False  False  False   False  \n",
      "18249       False       False        False  False  False   False  \n",
      "\n",
      "[18250 rows x 13 columns]\n",
      " \n",
      "Count total NaN at each column in a DataFrame : \n",
      "\n",
      " Date             0\n",
      "AveragePrice    28\n",
      "Total Volume     0\n",
      "4046             0\n",
      "4225             0\n",
      "4770             0\n",
      "Total Bags       0\n",
      "Small Bags       0\n",
      "Large Bags       0\n",
      "XLarge Bags      0\n",
      "type             0\n",
      "year             0\n",
      "region           0\n",
      "dtype: int64\n"
     ]
    }
   ],
   "source": [
    "# c\n",
    "# import numpy library as np \n",
    "import numpy as np \n",
    "# import pandas library as pd \n",
    "import pandas as pd \n",
    "\n",
    "dataset = pd.read_csv('Avocado _Dataset.csv')\n",
    "  \n",
    "# show the boolean dataframe             \n",
    "print(\" \\nBoolean Dataframe : \\n\\n\", dataset.isnull()) \n",
    "  \n",
    "# Count total NaN at each column in a DataFrame \n",
    "print(\" \\nCount total NaN at each column in a DataFrame : \\n\\n\",dataset.isnull().sum()) "
   ]
  },
  {
   "cell_type": "code",
   "execution_count": 9,
   "metadata": {},
   "outputs": [
    {
     "name": "stdout",
     "output_type": "stream",
     "text": [
      "             Date hierarchy\n",
      "0      27-12-2015       old\n",
      "1      20-12-2015       old\n",
      "2      13-12-2015       old\n",
      "3      06-12-2015       old\n",
      "4      29-11-2015       old\n",
      "...           ...       ...\n",
      "18245  28-01-2018    recent\n",
      "18246  21-01-2018    recent\n",
      "18247  14-01-2018    recent\n",
      "18248  07-01-2018    recent\n",
      "18249  18-03-2018    recent\n",
      "\n",
      "[18250 rows x 2 columns]\n"
     ]
    }
   ],
   "source": [
    "import numpy as np \n",
    "import pandas as pd \n",
    "\n",
    "dataset = pd.read_csv('Avocado _Dataset.csv')\n",
    "cut_labels = ['old','new','recent']\n",
    "cut_bins = [2014,2016,2017,2018]\n",
    "dataset['year'] = pd.DatetimeIndex(dataset['Date']).year\n",
    "dataset['hierarchy'] = pd.cut(dataset['year'], bins=cut_bins, labels=cut_labels)\n",
    "\n",
    "print(dataset[['Date','hierarchy']])\n"
   ]
  },
  {
   "cell_type": "code",
   "execution_count": 10,
   "metadata": {},
   "outputs": [
    {
     "data": {
      "text/plain": [
       "0     1.33\n",
       "1     1.35\n",
       "2     0.93\n",
       "3     1.08\n",
       "4     1.29\n",
       "5      NaN\n",
       "6      nil\n",
       "7      NaN\n",
       "8      NaN\n",
       "9       na\n",
       "10     NaN\n",
       "11     NaN\n",
       "12    1.31\n",
       "13    0.99\n",
       "14    1.33\n",
       "Name: AveragePrice, dtype: object"
      ]
     },
     "execution_count": 10,
     "metadata": {},
     "output_type": "execute_result"
    }
   ],
   "source": [
    "dataset['AveragePrice'][:15]"
   ]
  },
  {
   "cell_type": "code",
   "execution_count": 12,
   "metadata": {},
   "outputs": [
    {
     "name": "stdout",
     "output_type": "stream",
     "text": [
      "0     1.330000\n",
      "1     1.350000\n",
      "2     0.930000\n",
      "3     1.080000\n",
      "4     1.290000\n",
      "5     1.570755\n",
      "6     1.570755\n",
      "7     1.570755\n",
      "8     1.570755\n",
      "9     1.570755\n",
      "10    1.570755\n",
      "11    1.570755\n",
      "12    1.310000\n",
      "13    0.990000\n",
      "14    1.330000\n",
      "Name: AveragePrice, dtype: float64\n"
     ]
    }
   ],
   "source": [
    "dataset['AveragePrice'] = pd.to_numeric(dataset['AveragePrice'],errors = 'coerce')\n",
    "dataset['AveragePrice']=dataset[\"AveragePrice\"].fillna( dataset.groupby('region')['AveragePrice'].transform(\"mean\"))\n",
    "print(dataset['AveragePrice'][:15])"
   ]
  },
  {
   "cell_type": "code",
   "execution_count": 16,
   "metadata": {},
   "outputs": [
    {
     "data": {
      "text/plain": [
       "Date            0\n",
       "AveragePrice    0\n",
       "Total Volume    0\n",
       "4046            0\n",
       "4225            0\n",
       "4770            0\n",
       "Total Bags      0\n",
       "Small Bags      0\n",
       "Large Bags      0\n",
       "XLarge Bags     0\n",
       "type            0\n",
       "year            0\n",
       "region          0\n",
       "hierarchy       0\n",
       "dtype: int64"
      ]
     },
     "execution_count": 16,
     "metadata": {},
     "output_type": "execute_result"
    }
   ],
   "source": [
    "dataset.isnull().sum()"
   ]
  },
  {
   "cell_type": "code",
   "execution_count": 10,
   "metadata": {},
   "outputs": [
    {
     "name": "stdout",
     "output_type": "stream",
     "text": [
      "year  region             \n",
      "2015  Albany                 4.029896e+06\n",
      "      Atlanta                2.323170e+07\n",
      "      BaltimoreWashington    4.064558e+07\n",
      "      Boise                  3.784357e+06\n",
      "      Boston                 2.745499e+07\n",
      "                                 ...     \n",
      "2018  Syracuse               1.046988e+06\n",
      "      Tampa                  6.642055e+06\n",
      "      TotalUS                5.236323e+08\n",
      "      West                   9.247709e+07\n",
      "      WestTexNewMexico       1.181672e+07\n",
      "Name: Total Volume, Length: 216, dtype: float64\n"
     ]
    }
   ],
   "source": [
    "# b\n",
    "import numpy as np \n",
    "import pandas as pd \n",
    "\n",
    "dataset = pd.read_csv('Avocado _Dataset.csv')\n",
    "print(dataset.groupby(['year','region'])['Total Volume'].sum()) #sum of total volumes sold grouped by year and region"
   ]
  },
  {
   "cell_type": "code",
   "execution_count": 12,
   "metadata": {},
   "outputs": [
    {
     "name": "stdout",
     "output_type": "stream",
     "text": [
      "0       2015-12-27\n",
      "1       2015-12-20\n",
      "2       2015-12-13\n",
      "3       2015-06-12\n",
      "4       2015-11-29\n",
      "           ...    \n",
      "18245   2018-01-28\n",
      "18246   2018-01-21\n",
      "18247   2018-01-14\n",
      "18248   2018-07-01\n",
      "18249   2018-03-18\n",
      "Name: Date, Length: 18250, dtype: datetime64[ns]\n"
     ]
    }
   ],
   "source": [
    "dataset['Date'] = pd.to_datetime(dataset['Date'])# converting string Date time into Python Date time object\n",
    "print(dataset['Date'])"
   ]
  },
  {
   "cell_type": "code",
   "execution_count": 13,
   "metadata": {},
   "outputs": [
    {
     "name": "stdout",
     "output_type": "stream",
     "text": [
      "Date  Date  region             \n",
      "2015  1     Albany                   322087.44\n",
      "            Atlanta                 2485896.12\n",
      "            BaltimoreWashington     3953149.67\n",
      "            Boise                    381243.41\n",
      "            Boston                  2356821.60\n",
      "                                      ...     \n",
      "2018  11    Syracuse                 178546.66\n",
      "            Tampa                   1166896.98\n",
      "            TotalUS                86598644.56\n",
      "            West                   14909847.69\n",
      "            WestTexNewMexico        2007673.77\n",
      "Name: Total Volume, Length: 2268, dtype: float64\n"
     ]
    }
   ],
   "source": [
    "print(dataset.groupby([dataset['Date'].dt.year,dataset['Date'].dt.month,'region'])['Total Volume'].sum())\n",
    "# sum of total volume sold grouped by year , month and region"
   ]
  },
  {
   "cell_type": "code",
   "execution_count": 14,
   "metadata": {},
   "outputs": [],
   "source": []
  },
  {
   "cell_type": "code",
   "execution_count": null,
   "metadata": {},
   "outputs": [],
   "source": []
  }
 ],
 "metadata": {
  "kernelspec": {
   "display_name": "Python 3",
   "language": "python",
   "name": "python3"
  },
  "language_info": {
   "codemirror_mode": {
    "name": "ipython",
    "version": 3
   },
   "file_extension": ".py",
   "mimetype": "text/x-python",
   "name": "python",
   "nbconvert_exporter": "python",
   "pygments_lexer": "ipython3",
   "version": "3.8.5"
  }
 },
 "nbformat": 4,
 "nbformat_minor": 4
}
